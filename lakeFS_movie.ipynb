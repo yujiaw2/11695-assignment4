{
 "cells": [
  {
   "cell_type": "code",
   "execution_count": 1,
   "id": "74f531a2",
   "metadata": {},
   "outputs": [],
   "source": [
    "import pandas as pd\n",
    "\n",
    "import lakefs_client\n",
    "from lakefs_client import models\n",
    "from lakefs_client.client import LakeFSClient"
   ]
  },
  {
   "cell_type": "markdown",
   "id": "8550bb7b",
   "metadata": {},
   "source": [
    "## lakeFS Python API"
   ]
  },
  {
   "cell_type": "code",
   "execution_count": 2,
   "id": "856e4b58",
   "metadata": {},
   "outputs": [],
   "source": [
    "# lakeFS credentials and endpoint\n",
    "configuration = lakefs_client.Configuration()\n",
    "configuration.username = 'AKIA****************'\n",
    "configuration.password = 'GJXW******************************'\n",
    "configuration.host = 'http://127.0.0.1:8000'\n",
    "\n",
    "client = LakeFSClient(configuration)"
   ]
  },
  {
   "cell_type": "code",
   "execution_count": 19,
   "id": "f334108b",
   "metadata": {},
   "outputs": [],
   "source": [
    "# create repo\n",
    "repo = models.RepositoryCreation(name='movie-repo', storage_namespace='s3://movie-s3bucket', default_branch='main')\n",
    "client.repositories.create_repository(repo)"
   ]
  },
  {
   "cell_type": "code",
   "execution_count": 5,
   "id": "702d2203",
   "metadata": {},
   "outputs": [
    {
     "data": {
      "text/plain": [
       "{'pagination': {'has_more': False,\n",
       "                'max_per_page': 1000,\n",
       "                'next_offset': '',\n",
       "                'results': 2},\n",
       " 'results': [{'commit_id': 'd9ad30aa37927f17d7702f7058833e1e348ca559c411148b8d86b5222ff81fd5',\n",
       "              'id': 'dev'},\n",
       "             {'commit_id': 'd9ad30aa37927f17d7702f7058833e1e348ca559c411148b8d86b5222ff81fd5',\n",
       "              'id': 'main'}]}"
      ]
     },
     "execution_count": 5,
     "metadata": {},
     "output_type": "execute_result"
    }
   ],
   "source": [
    "# list branches\n",
    "client.branches.list_branches('movie-repo')"
   ]
  },
  {
   "cell_type": "code",
   "execution_count": null,
   "id": "7a09667e",
   "metadata": {},
   "outputs": [],
   "source": [
    "# create a new branch\n",
    "client.branches.create_branch(repository='movie-repo', \n",
    "                              branch_creation=models.BranchCreation(name='dev', source='main'))\n"
   ]
  },
  {
   "cell_type": "markdown",
   "id": "caec787c",
   "metadata": {},
   "source": [
    "## Movie Use Case"
   ]
  },
  {
   "cell_type": "code",
   "execution_count": 7,
   "id": "6c58f48e",
   "metadata": {},
   "outputs": [
    {
     "data": {
      "text/plain": [
       "'b7eed68d29a04bc9d3a78892213de59ffda95f4907789a94085dff06b00c91aa'"
      ]
     },
     "execution_count": 7,
     "metadata": {},
     "output_type": "execute_result"
    }
   ],
   "source": [
    "# new branch\n",
    "client.branches.create_branch(repository='movie-repo', \n",
    "                              branch_creation=models.BranchCreation(name='dev', source='main'))\n"
   ]
  },
  {
   "cell_type": "code",
   "execution_count": 9,
   "id": "80a0bf13",
   "metadata": {
    "scrolled": true
   },
   "outputs": [],
   "source": [
    "# read data\n",
    "raw_info = client.objects.get_object(repository='movie-repo', \n",
    "                                 ref='dev', \n",
    "                                 path='movie_info_origin.csv')\n",
    "df = pd.read_csv(raw_info)"
   ]
  },
  {
   "cell_type": "code",
   "execution_count": 11,
   "id": "daa823af",
   "metadata": {},
   "outputs": [],
   "source": [
    "movies_new = df[[\"movie_id\", \"title\", \"budget\", \"genres\", \"original_language\", \"popularity\",\n",
    "                     \"release_date\", \"revenue\", \"runtime\"]]\n",
    "\n",
    "movies_new[\"genre\"] = movies_new[\"genres\"].apply(lambda x: x.split(\"|\")[0].split(\":\")[1])"
   ]
  },
  {
   "cell_type": "code",
   "execution_count": 12,
   "id": "8b3582e6",
   "metadata": {},
   "outputs": [],
   "source": [
    "import io\n",
    "stream = io.StringIO()\n",
    "movies_new[[\"movie_id\", \"title\", \"original_language\", \"release_date\", \"runtime\", \"genre\"]].to_csv(stream, index=False)"
   ]
  },
  {
   "cell_type": "code",
   "execution_count": 13,
   "id": "8e381309",
   "metadata": {},
   "outputs": [
    {
     "data": {
      "text/plain": [
       "{'checksum': '3ea40165be6cb9c18d06461282241b6a',\n",
       " 'content_type': 'application/octet-stream',\n",
       " 'mtime': 1680191269,\n",
       " 'path': 'movie_feature.csv',\n",
       " 'path_type': 'object',\n",
       " 'physical_address': 's3://movie-s3bucket/data/gokl7n5n47dc73cfshvg/cgiqu95n47dc73cfsi00',\n",
       " 'size_bytes': 1731335}"
      ]
     },
     "execution_count": 13,
     "metadata": {},
     "output_type": "execute_result"
    }
   ],
   "source": [
    "stream.seek(0)\n",
    "client.objects.upload_object(repository='movie-repo', \n",
    "                         branch='dev', \n",
    "                         path='movie_feature.csv', \n",
    "                         content=stream)"
   ]
  },
  {
   "cell_type": "code",
   "execution_count": 14,
   "id": "21c20d97",
   "metadata": {},
   "outputs": [
    {
     "data": {
      "text/plain": [
       "{'committer': 'movie_admin',\n",
       " 'creation_date': 1680191347,\n",
       " 'id': '55f4281666e592ae61daa6de91faa69f7ecd91af17d7c61377afe92777dbba4a',\n",
       " 'message': 'Update the movie feature!',\n",
       " 'meta_range_id': '',\n",
       " 'metadata': {'using': 'python_api'},\n",
       " 'parents': ['b7eed68d29a04bc9d3a78892213de59ffda95f4907789a94085dff06b00c91aa']}"
      ]
     },
     "execution_count": 14,
     "metadata": {},
     "output_type": "execute_result"
    }
   ],
   "source": [
    "# commit\n",
    "client.commits.commit(\n",
    "    repository='movie-repo',\n",
    "    branch='dev',\n",
    "    commit_creation=models.CommitCreation(message='Update the movie feature!', metadata={'using': 'python_api'}))"
   ]
  },
  {
   "cell_type": "code",
   "execution_count": 15,
   "id": "810357fe",
   "metadata": {},
   "outputs": [
    {
     "data": {
      "text/plain": [
       "[{'path': 'movie_feature.csv',\n",
       "  'path_type': 'object',\n",
       "  'size_bytes': 1731335,\n",
       "  'type': 'changed'}]"
      ]
     },
     "execution_count": 15,
     "metadata": {},
     "output_type": "execute_result"
    }
   ],
   "source": [
    "# diff from main\n",
    "client.refs.diff_refs(repository='movie-repo', left_ref='main', right_ref='dev').results"
   ]
  },
  {
   "cell_type": "code",
   "execution_count": 16,
   "id": "4e8ea6ed",
   "metadata": {},
   "outputs": [
    {
     "data": {
      "text/plain": [
       "{'reference': '9045a98e7317237b36e9e9ccd3ae284db49c1e0516ce6f2e901a4131ebab1fd4',\n",
       " 'summary': {'added': 0, 'changed': 0, 'conflict': 0, 'removed': 0}}"
      ]
     },
     "execution_count": 16,
     "metadata": {},
     "output_type": "execute_result"
    }
   ],
   "source": [
    "# merge\n",
    "client.refs.merge_into_branch(repository='movie-repo', \n",
    "                              source_ref='dev', \n",
    "                              destination_branch='main')"
   ]
  },
  {
   "cell_type": "code",
   "execution_count": 17,
   "id": "4333da89",
   "metadata": {},
   "outputs": [],
   "source": [
    "# delete branch\n",
    "client.branches.delete_branch(repository='movie-repo', branch=\"dev\")"
   ]
  },
  {
   "cell_type": "code",
   "execution_count": 18,
   "id": "b5384242",
   "metadata": {},
   "outputs": [
    {
     "data": {
      "text/plain": [
       "{'pagination': {'has_more': False,\n",
       "                'max_per_page': 1000,\n",
       "                'next_offset': '',\n",
       "                'results': 1},\n",
       " 'results': [{'commit_id': '9045a98e7317237b36e9e9ccd3ae284db49c1e0516ce6f2e901a4131ebab1fd4',\n",
       "              'id': 'main'}]}"
      ]
     },
     "execution_count": 18,
     "metadata": {},
     "output_type": "execute_result"
    }
   ],
   "source": [
    "# list branches\n",
    "client.branches.list_branches('movie-repo')"
   ]
  },
  {
   "cell_type": "code",
   "execution_count": null,
   "id": "6e9a356b",
   "metadata": {},
   "outputs": [],
   "source": []
  }
 ],
 "metadata": {
  "kernelspec": {
   "display_name": "Python 3 (ipykernel)",
   "language": "python",
   "name": "python3"
  },
  "language_info": {
   "codemirror_mode": {
    "name": "ipython",
    "version": 3
   },
   "file_extension": ".py",
   "mimetype": "text/x-python",
   "name": "python",
   "nbconvert_exporter": "python",
   "pygments_lexer": "ipython3",
   "version": "3.8.16"
  }
 },
 "nbformat": 4,
 "nbformat_minor": 5
}
